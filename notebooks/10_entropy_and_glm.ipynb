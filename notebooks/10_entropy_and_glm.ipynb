{
 "cells": [
  {
   "cell_type": "markdown",
   "metadata": {},
   "source": [
    "# 10: Big Entropy and the Generalized Linear Model\n",
    "We are going to examine the role of entropy in our choice of distributions to represent our priors/posteriors. The guiding principle here is that we want to choose the distribution that maximizes entropy (uncertainty) given some constraints. Before, we only really used Gaussian distributions, which it turns out are the maximum entropy distribution over the real numbers given a fixed mean and variance."
   ]
  },
  {
   "cell_type": "code",
   "execution_count": 1,
   "metadata": {},
   "outputs": [],
   "source": [
    "import numpy as np\n",
    "import pandas as pd\n",
    "import matplotlib.pyplot as plt\n",
    "from scipy.special import binom"
   ]
  },
  {
   "cell_type": "markdown",
   "metadata": {},
   "source": [
    "### Code 10.1 - 10.4\n",
    "Now we will analyze the role of entropy in choosing a maximum entropy discrete distribution for count data. If we assume we have 10 pebbles that can be split between 5 buckets, how many ways are there to arrange them? How many of these ways end up with the same number of pebbles in each bucket?"
   ]
  },
  {
   "cell_type": "code",
   "execution_count": 2,
   "metadata": {},
   "outputs": [],
   "source": [
    "# consider 5 different potential orderings of the pebbles\n",
    "p = {\n",
    "    \"A\": [0, 0, 10, 0, 0],\n",
    "    \"B\": [0, 1, 8, 1, 0],\n",
    "    \"C\": [0, 2, 6, 2, 0],\n",
    "    \"D\": [1, 2, 4, 2, 1],\n",
    "    \"E\": [2, 2, 2, 2, 2],\n",
    "}\n",
    "# normalize\n",
    "p_norm = {k: np.array(v)/np.sum(v) for k, v in p.items()}"
   ]
  },
  {
   "cell_type": "code",
   "execution_count": 3,
   "metadata": {},
   "outputs": [
    {
     "name": "stderr",
     "output_type": "stream",
     "text": [
      "/home/ecotner/.local/lib/python3.7/site-packages/ipykernel_launcher.py:2: RuntimeWarning: divide by zero encountered in log\n",
      "  \n"
     ]
    },
    {
     "data": {
      "text/plain": [
       "{'A': -0.0,\n",
       " 'B': 0.639031859650177,\n",
       " 'C': 0.9502705392332347,\n",
       " 'D': 1.4708084763221112,\n",
       " 'E': 1.6094379124341005}"
      ]
     },
     "execution_count": 3,
     "metadata": {},
     "output_type": "execute_result"
    }
   ],
   "source": [
    "# calculate entropy\n",
    "H = {k: -(q * np.where(q==0, 0, np.log(q))).sum() for k, q in p_norm.items()}\n",
    "H"
   ]
  },
  {
   "cell_type": "markdown",
   "metadata": {},
   "source": [
    "It turns out that the entropy is highest for the most uniform distribution. How many ways can these counts of pebbles be realized? Well there are $\\binom{N}{k}$ ways to sample $k$ identical objects from a pool of $N$. So if we envision looking into each bucket in sequence, we know that for the first bucket, there are $\\binom{N}{k_1}$ ways of arranging the pebbles in that bucket, $\\binom{N-k_1}{k_2}$ ways of arranging the pebbles in the second bucket (because $k_1$ of the pebbles are already in the first bucket, so there are only $N - k_1$ \"free\" pebbles left), $\\binom{N-(k_1+k_2)}{k_3}$ in the third, etc..."
   ]
  },
  {
   "cell_type": "code",
   "execution_count": 4,
   "metadata": {},
   "outputs": [
    {
     "data": {
      "text/plain": [
       "{'A': 1, 'B': 90, 'C': 1260, 'D': 37800, 'E': 113400}"
      ]
     },
     "execution_count": 4,
     "metadata": {},
     "output_type": "execute_result"
    }
   ],
   "source": [
    "ways = dict()\n",
    "for k in p:\n",
    "    n_left = 10\n",
    "    w = []\n",
    "    for n in p[k]:\n",
    "        w.append(binom(n_left, n))\n",
    "        n_left -= n\n",
    "    ways[k] = int(np.prod(w))\n",
    "ways"
   ]
  },
  {
   "cell_type": "code",
   "execution_count": 5,
   "metadata": {},
   "outputs": [
    {
     "data": {
      "text/plain": [
       "{'A': 0.0,\n",
       " 'B': 0.6491853096329675,\n",
       " 'C': 1.029920801838728,\n",
       " 'D': 1.5206098613995798,\n",
       " 'E': 1.6791061114716954}"
      ]
     },
     "execution_count": 5,
     "metadata": {},
     "output_type": "execute_result"
    }
   ],
   "source": [
    "logwayspp = {k: np.log2(ways[k])/10 for k in ways}\n",
    "logwayspp"
   ]
  },
  {
   "cell_type": "code",
   "execution_count": 6,
   "metadata": {},
   "outputs": [
    {
     "data": {
      "image/png": "[encoded data removed]",
      "text/plain": [
       "<Figure size 432x288 with 1 Axes>"
      ]
     },
     "metadata": {
      "needs_background": "light"
     },
     "output_type": "display_data"
    }
   ],
   "source": [
    "x = np.linspace(-0.05, 1.80, 3)\n",
    "plt.plot(x, x, color=\"black\", linestyle=\"--\", zorder=-1)\n",
    "x = list(logwayspp.values())\n",
    "y = list(H.values())\n",
    "plt.scatter(x, y)\n",
    "plt.xlabel(\"log(ways)\")\n",
    "plt.ylabel(\"entropy\")\n",
    "labels = list(H.keys())\n",
    "for i in range(len(labels)):\n",
    "    plt.text(x[i], y[i]+0.15, labels[i], horizontalalignment=\"center\", fontsize=15)\n",
    "plt.show()"
   ]
  },
  {
   "cell_type": "markdown",
   "metadata": {},
   "source": [
    "### Code 10.5 - 10.6\n",
    "Now we want to compare the entropies of several potential probability distributions for sampling blue and white marbles from a bag, where we _know_ that the expected number of blue marbles over two draws is exactly 1. We consider the following proposal distributions"
   ]
  },
  {
   "cell_type": "code",
   "execution_count": 7,
   "metadata": {},
   "outputs": [
    {
     "data": {
      "text/html": [
       "<div>\n",
       "<style scoped>\n",
       "    .dataframe tbody tr th:only-of-type {\n",
       "        vertical-align: middle;\n",
       "    }\n",
       "\n",
       "    .dataframe tbody tr th {\n",
       "        vertical-align: top;\n",
       "    }\n",
       "\n",
       "    .dataframe thead th {\n",
       "        text-align: right;\n",
       "    }\n",
       "</style>\n",
       "<table border=\"1\" class=\"dataframe\">\n",
       "  <thead>\n",
       "    <tr style=\"text-align: right;\">\n",
       "      <th></th>\n",
       "      <th>ww</th>\n",
       "      <th>bw</th>\n",
       "      <th>wb</th>\n",
       "      <th>bb</th>\n",
       "    </tr>\n",
       "  </thead>\n",
       "  <tbody>\n",
       "    <tr>\n",
       "      <th>A</th>\n",
       "      <td>0.250000</td>\n",
       "      <td>0.250000</td>\n",
       "      <td>0.250000</td>\n",
       "      <td>0.250000</td>\n",
       "    </tr>\n",
       "    <tr>\n",
       "      <th>B</th>\n",
       "      <td>0.333333</td>\n",
       "      <td>0.166667</td>\n",
       "      <td>0.166667</td>\n",
       "      <td>0.333333</td>\n",
       "    </tr>\n",
       "    <tr>\n",
       "      <th>C</th>\n",
       "      <td>0.166667</td>\n",
       "      <td>0.333333</td>\n",
       "      <td>0.333333</td>\n",
       "      <td>0.166667</td>\n",
       "    </tr>\n",
       "    <tr>\n",
       "      <th>D</th>\n",
       "      <td>0.125000</td>\n",
       "      <td>0.500000</td>\n",
       "      <td>0.250000</td>\n",
       "      <td>0.125000</td>\n",
       "    </tr>\n",
       "  </tbody>\n",
       "</table>\n",
       "</div>"
      ],
      "text/plain": [
       "         ww        bw        wb        bb\n",
       "A  0.250000  0.250000  0.250000  0.250000\n",
       "B  0.333333  0.166667  0.166667  0.333333\n",
       "C  0.166667  0.333333  0.333333  0.166667\n",
       "D  0.125000  0.500000  0.250000  0.125000"
      ]
     },
     "execution_count": 7,
     "metadata": {},
     "output_type": "execute_result"
    }
   ],
   "source": [
    "p = pd.DataFrame([\n",
    "    [1/4, 1/4, 1/4, 1/4],\n",
    "    [2/6, 1/6, 1/6, 2/6],\n",
    "    [1/6, 2/6, 2/6, 1/6],\n",
    "    [1/8, 4/8, 2/8, 1/8],\n",
    "], columns=[\"ww\",\"bw\",\"wb\",\"bb\"], index=list(\"ABCD\"))\n",
    "p"
   ]
  },
  {
   "cell_type": "code",
   "execution_count": 8,
   "metadata": {},
   "outputs": [
    {
     "data": {
      "text/plain": [
       "A    1.0\n",
       "B    1.0\n",
       "C    1.0\n",
       "D    1.0\n",
       "dtype: float64"
      ]
     },
     "execution_count": 8,
     "metadata": {},
     "output_type": "execute_result"
    }
   ],
   "source": [
    "# Compute expected value of # of blue marbles\n",
    "(p*np.array([[0, 1, 1, 2]])).sum(axis=1)"
   ]
  },
  {
   "cell_type": "code",
   "execution_count": 9,
   "metadata": {},
   "outputs": [
    {
     "data": {
      "text/plain": [
       "A    1.386294\n",
       "B    1.329661\n",
       "C    1.329661\n",
       "D    1.213008\n",
       "dtype: float64"
      ]
     },
     "execution_count": 9,
     "metadata": {},
     "output_type": "execute_result"
    }
   ],
   "source": [
    "# compute entropy of each distribution\n",
    "-(p*np.log(p)).sum(axis=1)"
   ]
  },
  {
   "cell_type": "markdown",
   "metadata": {},
   "source": [
    "We see that distribution A has the largest entropy. It just happens to be the same as the binomal distribution for $b$ successes out of $n=2$ trials."
   ]
  },
  {
   "cell_type": "markdown",
   "metadata": {},
   "source": [
    "### Code 10.7 - 10.13\n",
    "The above example was kind of special because the distribution over outcomes can remain flat and still be consistent with the constraint. What if the expected value was 1.4 marbles in two draws ($p = 0.7$). The binomial distribution with this expected value is"
   ]
  },
  {
   "cell_type": "code",
   "execution_count": 10,
   "metadata": {},
   "outputs": [
    {
     "data": {
      "text/plain": [
       "array([0.09, 0.21, 0.21, 0.49])"
      ]
     },
     "execution_count": 10,
     "metadata": {},
     "output_type": "execute_result"
    }
   ],
   "source": [
    "p = 0.7\n",
    "A = np.array([(1-p)**2, p*(1-p), (1-p)*p, p**2])\n",
    "A"
   ]
  },
  {
   "cell_type": "code",
   "execution_count": 11,
   "metadata": {},
   "outputs": [
    {
     "data": {
      "text/plain": [
       "1.221728604109787"
      ]
     },
     "execution_count": 11,
     "metadata": {},
     "output_type": "execute_result"
    }
   ],
   "source": [
    "# entropy of distribution\n",
    "-(A*np.log(A)).sum()"
   ]
  },
  {
   "cell_type": "markdown",
   "metadata": {},
   "source": [
    "If we randomly generate a bunch of distributions with the same expected value of 1.4, then we expect that none of them will have a larger entropy than 1.22."
   ]
  },
  {
   "cell_type": "code",
   "execution_count": 12,
   "metadata": {},
   "outputs": [],
   "source": [
    "def sim_dists(G=1.4):\n",
    "    x123 = np.random.rand(3)\n",
    "    x4 = (G * x123.sum() - x123[1] - x123[2])/(2-G)\n",
    "    z = x123.sum() + x4\n",
    "    p = np.array([*x123, x4])/z\n",
    "    return dict(H=-(p*np.log(p)).sum(), p=p)\n",
    "\n",
    "H = [sim_dists() for _ in range(10_000)]\n",
    "entropies = np.array([d[\"H\"] for d in H])\n",
    "distributions = np.array([d[\"p\"] for d in H])"
   ]
  },
  {
   "cell_type": "code",
   "execution_count": 13,
   "metadata": {},
   "outputs": [
    {
     "data": {
      "image/png": "[encoded data removed]",
      "text/plain": [
       "<Figure size 432x288 with 1 Axes>"
      ]
     },
     "metadata": {
      "needs_background": "light"
     },
     "output_type": "display_data"
    }
   ],
   "source": [
    "plt.hist(entropies, bins=100, density=True, histtype=\"step\", linewidth=1.15, label=\"random\")\n",
    "plt.xlabel(\"entropy\")\n",
    "plt.ylabel(\"density\")\n",
    "plt.axvline(-(A*np.log(A)).sum(), color=\"black\", linestyle=\"--\", label=\"binomial\")\n",
    "plt.legend(title=\"distributions\")\n",
    "plt.show()"
   ]
  },
  {
   "cell_type": "markdown",
   "metadata": {},
   "source": [
    "We can see that the largest entropy sample has a distribution that is almost identical to the binomial distribution."
   ]
  },
  {
   "cell_type": "code",
   "execution_count": 14,
   "metadata": {},
   "outputs": [
    {
     "name": "stdout",
     "output_type": "stream",
     "text": [
      "max entropy: 1.221705804760178\n",
      "sample distribution: [0.08953159 0.21253592 0.20840089 0.48953159]\n",
      "binomial distribution: [0.09 0.21 0.21 0.49]\n"
     ]
    }
   ],
   "source": [
    "idx = np.argmax(entropies)\n",
    "print(\"max entropy:\", entropies[idx])\n",
    "print(\"sample distribution:\", distributions[idx])\n",
    "print(\"binomial distribution:\", A)"
   ]
  },
  {
   "cell_type": "markdown",
   "metadata": {},
   "source": [
    "## Generalized linear models"
   ]
  },
  {
   "cell_type": "markdown",
   "metadata": {},
   "source": [
    "The rest of the chapter is about generalized linear models (abbreviated GLM). There are no more code snippets, just some general theoretical motivation for their use. The idea is that instead of using the normal distribution and having $\\mu$ be a linear function of the predictors, perhaps we could (and in fact _should_) use other distributions in different scenarios, and instead try and predict the parameters that define them as functions of the predictors."
   ]
  },
  {
   "cell_type": "markdown",
   "metadata": {},
   "source": [
    "For example, if we have some count data where we need to infer the probability of an even occurring, we could use the following GLM:\n",
    "\n",
    "$$\n",
    "\\begin{align}\n",
    "y_i &\\sim \\text{Binomial}(n, p_i) \\\\\n",
    "f(p_i) &= \\alpha + \\beta x_i\n",
    "\\end{align}\n",
    "$$\n",
    "\n",
    "where $f(p)$ is known as the \"link function\", and its purpose is to transform the range of the linear function $\\alpha + \\beta x$ into the domain of the parameter $p$. The problem is that $\\alpha + \\beta x$ can in principle be any real number, but $p \\in [0, 1]$. So we need some function to \"squash\" the range to fit in there. A useful transformation in this case is the logit function\n",
    "$$\\text{logit}(p) = \\log \\frac{p}{1-p},$$\n",
    "which amounts to a transformation of\n",
    "$$p = f^{-1}(\\alpha + \\beta x) = \\frac{\\exp(\\alpha + \\beta x)}{1 + \\exp(\\alpha + \\beta x)}$$\n",
    "Because this inverse transformation is so common, you'll usually see $f^{-1}$ just as often as you'll see $f$."
   ]
  },
  {
   "cell_type": "markdown",
   "metadata": {},
   "source": [
    "The use of a nonlinear link function implicitly leads to interaction effects between all of the predictors because now the derivative of the parameter with respect to one predictor is now a function of all the predictors, not just the one:\n",
    "$$\n",
    "\\frac{\\partial p}{\\partial x_i} = (f^{-1})^\\prime(\\alpha + \\beta \\cdot x) \\beta_i\n",
    "$$\n",
    "(I'm assuming $x$ and $\\beta$ are both vectors here)"
   ]
  },
  {
   "cell_type": "code",
   "execution_count": null,
   "metadata": {},
   "outputs": [],
   "source": []
  }
 ],
 "metadata": {
  "kernelspec": {
   "display_name": "Python 3",
   "language": "python",
   "name": "python3"
  },
  "language_info": {
   "codemirror_mode": {
    "name": "ipython",
    "version": 3
   },
   "file_extension": ".py",
   "mimetype": "text/x-python",
   "name": "python",
   "nbconvert_exporter": "python",
   "pygments_lexer": "ipython3",
   "version": "3.7.5"
  }
 },
 "nbformat": 4,
 "nbformat_minor": 4
}
