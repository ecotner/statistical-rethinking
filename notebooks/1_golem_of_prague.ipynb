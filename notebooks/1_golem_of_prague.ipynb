{
 "cells": [
  {
   "cell_type": "markdown",
   "metadata": {},
   "source": [
    "# 1: The Golem of Prague"
   ]
  },
  {
   "cell_type": "markdown",
   "metadata": {},
   "source": [
    "This chapter is entirely expository; there are no code samples. There are many interesting philosophical ideas touched upon that I will try to briefly summarize:\n",
    "\n",
    "* Models are not hypotheses (nor are hypotheses models)\n",
    "    * In many cases, one hypothesis could be described by multiple sufficiently flexible models\n",
    "    * Multiple hypotheses may lead to the same statistical model\n",
    "    * The underlying scientific/causal model is the real source of truth, but can be difficult or impossible to ascertain.\n",
    "* There are multiple types of errors and uncertainties, and we should be careful to distinguish them\n",
    "    * measurement/systematic error\n",
    "    * level of belief\n",
    "    * statistical variations\n",
    "* Just because something cannot be proven wrong does not mean it is right\n",
    "* The book will focus mainly on four main tools/techniques:\n",
    "\n",
    "    1. Bayesian data analysis\n",
    "\n",
    "        1. Reasons about outcomes in the form of probability distributions\n",
    "        2. Many natural intuitions about probability and statistics align with the Bayesian interpretation as opposed to others\n",
    "    2. Model comparison\n",
    "        1. Can use techniques like cross-validation and information criterion to measure generalization accuracy and compare models\n",
    "        2. Will be useful for determining if complex models are overfitting\n",
    "    3. Multilevel models\n",
    "        1. Complex models can be built from hierarchies of simpler ones\n",
    "        2. Makes use of _partial pooling_ trick to share information across units in a model to produce better estimates for all units\n",
    "            1. helps reduce the effects of common problems like repeat sampling, dataset imbalance, population variation, and misuse of data averaging\n",
    "        3. Author argues that multilevel regression should be the default!\n",
    "    4. Graphical causal models\n",
    "        1. Statistics cannot tell you anything about causation\n",
    "        2. If two events are correlated, which one caused the other?\n",
    "            1. Maybe both could be traced back to a common \"confounding factor\", so there is actually no causal relationship!\n",
    "        3. A DAG (Directed Acyclic Graph) is a common tool for specifying causal models that can represent chains of causal relationships\n",
    "* The layout of the chapters will be\n",
    "\n",
    "    * Chapters 2/3 introduce Bayesian foundations\n",
    "    * Chapters 4-9 explore multiple linear regression from a Bayesian perspective, and touch on the problem of overfitting\n",
    "    * Chapters 9-12 explore \"generalized\" linear models, MCMC (Markov Chain Monte Carlo), and the use of \"maximum entropy\"\n",
    "    * Chapters 13-16 discuss multilevel models as well as some other specialized models\n",
    "    * Chapter 17 kind of returns to the beginning and wraps everything up"
   ]
  },
  {
   "cell_type": "code",
   "execution_count": null,
   "metadata": {},
   "outputs": [],
   "source": []
  }
 ],
 "metadata": {
  "kernelspec": {
   "display_name": "Python 3",
   "language": "python",
   "name": "python3"
  },
  "language_info": {
   "codemirror_mode": {
    "name": "ipython",
    "version": 3
   },
   "file_extension": ".py",
   "mimetype": "text/x-python",
   "name": "python",
   "nbconvert_exporter": "python",
   "pygments_lexer": "ipython3",
   "version": "3.7.5"
  }
 },
 "nbformat": 4,
 "nbformat_minor": 4
}
